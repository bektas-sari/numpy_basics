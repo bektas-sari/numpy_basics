{
 "cells": [
  {
   "cell_type": "code",
   "execution_count": 1,
   "id": "e39f99e6-bbbf-44ed-ad65-adcfa2fca1ac",
   "metadata": {},
   "outputs": [],
   "source": [
    "import numpy as np"
   ]
  },
  {
   "cell_type": "markdown",
   "id": "72a53d7d-74e1-4157-9a28-0256b3957f29",
   "metadata": {},
   "source": [
    "### Array Oluşturmak"
   ]
  },
  {
   "cell_type": "code",
   "execution_count": 4,
   "id": "cc1d44c2-8d16-4675-bd07-0a4b9053e732",
   "metadata": {},
   "outputs": [
    {
     "name": "stdout",
     "output_type": "stream",
     "text": [
      "Dizi: [10 20 30 40 50]\n",
      "Toplam: 150\n",
      "Ortalama: 30.0\n"
     ]
    }
   ],
   "source": [
    "dizi = np.array([10, 20, 30, 40, 50])\n",
    "print(f\"Dizi: {dizi}\")\n",
    "print(f\"Toplam: {dizi.sum()}\")\n",
    "print(f\"Ortalama: {dizi.mean()}\")\n"
   ]
  },
  {
   "cell_type": "markdown",
   "id": "407e59b5-9255-4303-9eb0-18aa432a19be",
   "metadata": {},
   "source": [
    "### Martris işlemlerde Transpoze almak"
   ]
  },
  {
   "cell_type": "code",
   "execution_count": 6,
   "id": "6f66afa8-9349-49b2-b46a-6a73432cc55d",
   "metadata": {},
   "outputs": [
    {
     "name": "stdout",
     "output_type": "stream",
     "text": [
      "Matris:\n",
      "[[1 2 3]\n",
      " [4 5 6]\n",
      " [7 8 9]]\n",
      "Transpozu:\n",
      "[[1 4 7]\n",
      " [2 5 8]\n",
      " [3 6 9]]\n"
     ]
    }
   ],
   "source": [
    "matris = np.array([[1, 2, 3], [4, 5, 6], [7, 8, 9]])\n",
    "print(f\"Matris:\")\n",
    "print(matris)\n",
    "print(f\"Transpozu:\")\n",
    "print(matris.T)\n"
   ]
  },
  {
   "cell_type": "markdown",
   "id": "22f26c07-ecee-4f6d-afad-e7bbd0d737ac",
   "metadata": {},
   "source": [
    "### Rastgele Sayı Üretmek"
   ]
  },
  {
   "cell_type": "code",
   "execution_count": 11,
   "id": "2ba785f3-3530-428a-839e-79c2f5f3fcad",
   "metadata": {},
   "outputs": [
    {
     "name": "stdout",
     "output_type": "stream",
     "text": [
      "Rastgele Değerler: [0.0597412  0.89549643 0.84495073 0.19089195 0.77479435]\n"
     ]
    }
   ],
   "source": [
    "rastgele = np.random.rand(5)\n",
    "print(f\"Rastgele Değerler: {rastgele}\")\n"
   ]
  },
  {
   "cell_type": "markdown",
   "id": "53e2edda-6e61-4cd0-9642-334d4eed39ae",
   "metadata": {},
   "source": [
    "### Veri Normalizasyonu"
   ]
  },
  {
   "cell_type": "code",
   "execution_count": 12,
   "id": "ed52fc0a-44a5-473f-a7aa-380af0cbd4d0",
   "metadata": {},
   "outputs": [
    {
     "name": "stdout",
     "output_type": "stream",
     "text": [
      "Normalize Edilmiş Veriler: [0.   0.25 0.5  0.75 1.  ]\n"
     ]
    }
   ],
   "source": [
    "veriler = np.array([100, 200, 300, 400, 500])\n",
    "normalizasyon = (veriler - veriler.min()) / (veriler.max() - veriler.min())\n",
    "print(f\"Normalize Edilmiş Veriler: {normalizasyon}\")\n"
   ]
  }
 ],
 "metadata": {
  "kernelspec": {
   "display_name": "Python 3 (ipykernel)",
   "language": "python",
   "name": "python3"
  },
  "language_info": {
   "codemirror_mode": {
    "name": "ipython",
    "version": 3
   },
   "file_extension": ".py",
   "mimetype": "text/x-python",
   "name": "python",
   "nbconvert_exporter": "python",
   "pygments_lexer": "ipython3",
   "version": "3.13.0"
  }
 },
 "nbformat": 4,
 "nbformat_minor": 5
}
